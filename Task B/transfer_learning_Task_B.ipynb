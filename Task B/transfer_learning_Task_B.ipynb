{
  "cells": [
    {
      "cell_type": "markdown",
      "metadata": {
        "id": "view-in-github",
        "colab_type": "text"
      },
      "source": [
        "<a href=\"https://colab.research.google.com/github/tobyloby12/AMLS-assignment/blob/main/Task%20B/transfer_learning_Task_B.ipynb\" target=\"_parent\"><img src=\"https://colab.research.google.com/assets/colab-badge.svg\" alt=\"Open In Colab\"/></a>"
      ]
    },
    {
      "cell_type": "markdown",
      "source": [
        "# Google Colab"
      ],
      "metadata": {
        "id": "JmRNxJ05diPb"
      }
    },
    {
      "cell_type": "code",
      "execution_count": null,
      "metadata": {
        "colab": {
          "base_uri": "https://localhost:8080/"
        },
        "id": "JY42BDE8y404",
        "outputId": "ae6374a2-e7f7-405f-c1cb-390d2f65b23c"
      },
      "outputs": [
        {
          "output_type": "stream",
          "name": "stdout",
          "text": [
            "Mounted at /content/drive\n"
          ]
        }
      ],
      "source": [
        "from google.colab import drive\n",
        "drive.mount('/content/drive')"
      ]
    },
    {
      "cell_type": "code",
      "execution_count": null,
      "metadata": {
        "id": "BVvBub4eheZY"
      },
      "outputs": [],
      "source": [
        "import os\n",
        "os.chdir('/content/drive/MyDrive/amlsAssignment')"
      ]
    },
    {
      "cell_type": "code",
      "source": [
        "import pandas as pd\n",
        "import os"
      ],
      "metadata": {
        "id": "En2SuvlW7-z4"
      },
      "execution_count": null,
      "outputs": []
    },
    {
      "cell_type": "markdown",
      "source": [
        "# Sorting the dataset into the directoryies with different class names for loading in the data in batches using keras image_dataset_from_directory function"
      ],
      "metadata": {
        "id": "XvKQXFmIeLzp"
      }
    },
    {
      "cell_type": "code",
      "source": [
        "# put correct path to AMLSassignment github folder\n",
        "path = '/content/drive/MyDrive/amlsAssignment'"
      ],
      "metadata": {
        "id": "htnk9cCDL6sB"
      },
      "execution_count": null,
      "outputs": []
    },
    {
      "cell_type": "code",
      "source": [
        "# sorting data into class directories\n",
        "# creating directories and sorting images based on dataframe image labels\n",
        "from tqdm.auto import tqdm\n",
        "from shutil import copy2\n",
        "\n",
        "os.chdir(path + '/dataset')\n",
        "df = pd.read_csv('label.csv')\n",
        "try:\n",
        "  os.mkdir('class_dataset')\n",
        "except:\n",
        "  print('Directory already created')\n",
        "os.chdir(path + '/dataset/class_dataset')\n",
        "classes = []\n",
        "for row in tqdm(df.iterrows()):\n",
        "  image_name = row[1][0]\n",
        "  label = row[1][1]\n",
        "  if label not in classes:\n",
        "    classes.append(label)\n",
        "    try:\n",
        "      os.mkdir(f'{label}')\n",
        "    except:\n",
        "      print('Directory already created')\n",
        "  \n",
        "  copy2(path + f'/dataset/image/{image_name}', path + f'/dataset/class_dataset/{label}')"
      ],
      "metadata": {
        "id": "gY8kbo8u74F6"
      },
      "execution_count": null,
      "outputs": []
    },
    {
      "cell_type": "code",
      "source": [
        "# doing the same for the test dataset\n",
        "# sorting data into class directories\n",
        "\n",
        "os.chdir(path + '/dataset')\n",
        "df = pd.read_csv('./test/label.csv')\n",
        "try:\n",
        "  os.mkdir('class_dataset_test')\n",
        "except:\n",
        "  print('Directory already created')\n",
        "os.chdir(path + '/dataset/class_dataset_test')\n",
        "classes = []\n",
        "for row in tqdm(df.iterrows()):\n",
        "  image_name = row[1][0]\n",
        "  label = row[1][1]\n",
        "  if label not in classes:\n",
        "    classes.append(label)\n",
        "    try:\n",
        "      os.mkdir(f'{label}')\n",
        "    except:\n",
        "      print('Directory already created')\n",
        "  \n",
        "  copy2(path + f'/dataset/test/image/{image_name}', path + f'/dataset/class_dataset_test/{label}')"
      ],
      "metadata": {
        "colab": {
          "base_uri": "https://localhost:8080/",
          "height": 86,
          "referenced_widgets": [
            "674c6e4ffa8b4ababbf9834bf7f766a5",
            "706d7cf5d7734985820a5bde9680435d",
            "14c1586f36824e189b9934f1afea6443",
            "6f3e31fda6244f8193435fcc45e7a19b",
            "55c38105cede4f78bb745adfc01b35a2",
            "650205979f5d41e6b76d7e0d483fef63",
            "eeb92d92f08641fd8e8323f72401af37",
            "fdad42e4a9fc4071a76a7aef13df3865",
            "9139ced32f0a4181a4e3904a74a1bb2b",
            "9e5482f26f314307b3037bb22d9f89d1",
            "cb62a7e84a8d494fb0851f94b3c5a02d"
          ]
        },
        "id": "WwLdlyCZ740g",
        "outputId": "f6b6be8f-cfb5-49c8-8685-79c546333459"
      },
      "execution_count": null,
      "outputs": [
        {
          "output_type": "stream",
          "name": "stdout",
          "text": [
            "Directory already created\n"
          ]
        },
        {
          "output_type": "display_data",
          "data": {
            "application/vnd.jupyter.widget-view+json": {
              "model_id": "674c6e4ffa8b4ababbf9834bf7f766a5",
              "version_minor": 0,
              "version_major": 2
            },
            "text/plain": [
              "0it [00:00, ?it/s]"
            ]
          },
          "metadata": {}
        },
        {
          "output_type": "stream",
          "name": "stdout",
          "text": [
            "Directory already created\n"
          ]
        }
      ]
    },
    {
      "cell_type": "code",
      "execution_count": null,
      "metadata": {
        "colab": {
          "base_uri": "https://localhost:8080/"
        },
        "id": "dZ1u6y23hgOV",
        "outputId": "d31ba9da-d9a4-4345-badd-6f1f36a1addf"
      },
      "outputs": [
        {
          "output_type": "stream",
          "name": "stdout",
          "text": [
            "Found 3000 files belonging to 4 classes.\n",
            "Using 2100 files for training.\n",
            "Found 3000 files belonging to 4 classes.\n",
            "Using 900 files for validation.\n",
            "Found 200 files belonging to 4 classes.\n"
          ]
        }
      ],
      "source": [
        "# using the image_dataset_from_directory function to create the datasets for training of neural networks from the directory created above\n",
        "\n",
        "from tensorflow.keras.preprocessing import image_dataset_from_directory\n",
        "os.chdir(path)\n",
        "train_dataset = image_dataset_from_directory(\n",
        "    os.getcwd() + '/dataset/class_dataset',\n",
        "    validation_split=0.3,\n",
        "    subset='training',\n",
        "    seed=0,\n",
        "    image_size=(256, 256),\n",
        "    batch_size=32\n",
        "\n",
        ")\n",
        "\n",
        "validate_dataset = image_dataset_from_directory(\n",
        "    os.getcwd() + '/dataset/class_dataset',\n",
        "    validation_split=0.3,\n",
        "    subset='validation',\n",
        "    seed=0,\n",
        "    image_size=(256, 256),\n",
        "    batch_size=32\n",
        ")\n",
        "\n",
        "test_dataset = image_dataset_from_directory(\n",
        "    os.getcwd() + '/dataset/class_dataset_test',\n",
        "    seed=0,\n",
        "    image_size=(256, 256),\n",
        "    batch_size=32\n",
        ")"
      ]
    },
    {
      "cell_type": "markdown",
      "metadata": {
        "id": "K8ctRTE-S84J"
      },
      "source": [
        "# Trying out VGG16 model to assess its performance"
      ]
    },
    {
      "cell_type": "code",
      "execution_count": null,
      "metadata": {
        "id": "86tMeC0BmCRn"
      },
      "outputs": [],
      "source": [
        "# importing VGG16 without head\n",
        "from keras.applications.vgg16 import VGG16\n",
        "\n",
        "model = VGG16(weights=\"imagenet\", include_top=False, input_shape=(256, 256, 3))"
      ]
    },
    {
      "cell_type": "code",
      "execution_count": null,
      "metadata": {
        "id": "Prlnd7fx5N16"
      },
      "outputs": [],
      "source": [
        "# making entire model trainable\n",
        "for layer in model.layers:\n",
        "  layer.trainable = True"
      ]
    },
    {
      "cell_type": "code",
      "execution_count": null,
      "metadata": {
        "id": "t6TXilQ9fSJL"
      },
      "outputs": [],
      "source": [
        "# adding additional layers to classify\n",
        "from keras.models import Model\n",
        "from tensorflow.keras.layers import Flatten, Dense\n",
        "from tensorflow.keras import models\n",
        "\n",
        "\n",
        "# model = Model(inputs=model.inputs, outputs=output)\n",
        "\n",
        "\n",
        "model = models.Sequential([\n",
        "    model,\n",
        "    Flatten(),\n",
        "    Dense(1024, activation='relu'),\n",
        "    Dense(4, activation='softmax')\n",
        "])"
      ]
    },
    {
      "cell_type": "code",
      "execution_count": null,
      "metadata": {
        "id": "3uWmwGLRfh1T"
      },
      "outputs": [],
      "source": [
        "# compiling model with loss function and optimiser along with callbacks to save the most important model and early stopping to avoid unnecesary training\n",
        "from tensorflow.keras.losses import SparseCategoricalCrossentropy\n",
        "from tensorflow.keras.optimizers import Adam\n",
        "from keras.callbacks import EarlyStopping\n",
        "from keras.callbacks import ModelCheckpoint\n",
        "\n",
        "es = EarlyStopping(monitor='val_loss', mode='min', verbose=1, patience=20)\n",
        "# can change model save location\n",
        "mc = ModelCheckpoint('best_model_VGG16_3.h5', monitor='val_accuracy', mode='max', verbose=1, save_best_only=True)\n",
        "\n",
        "\n",
        "model.compile(optimizer=Adam(learning_rate=0.00004), loss=SparseCategoricalCrossentropy(), metrics=['accuracy'])"
      ]
    },
    {
      "cell_type": "code",
      "execution_count": null,
      "metadata": {
        "colab": {
          "base_uri": "https://localhost:8080/"
        },
        "id": "MwjTV3U-fws7",
        "outputId": "8b12d863-856a-45a8-ec99-6f68fe0e8630"
      },
      "outputs": [
        {
          "output_type": "stream",
          "name": "stdout",
          "text": [
            "Epoch 1/40\n",
            "66/66 [==============================] - ETA: 0s - loss: 1.3209 - accuracy: 0.6429\n",
            "Epoch 00001: val_accuracy improved from -inf to 0.75444, saving model to best_model_VGG16_3.h5\n",
            "66/66 [==============================] - 522s 7s/step - loss: 1.3209 - accuracy: 0.6429 - val_loss: 0.6437 - val_accuracy: 0.7544\n",
            "Epoch 2/40\n",
            "66/66 [==============================] - ETA: 0s - loss: 0.3937 - accuracy: 0.8633\n",
            "Epoch 00002: val_accuracy improved from 0.75444 to 0.86667, saving model to best_model_VGG16_3.h5\n",
            "66/66 [==============================] - 26s 393ms/step - loss: 0.3937 - accuracy: 0.8633 - val_loss: 0.3860 - val_accuracy: 0.8667\n",
            "Epoch 3/40\n",
            "66/66 [==============================] - ETA: 0s - loss: 0.1858 - accuracy: 0.9348\n",
            "Epoch 00003: val_accuracy did not improve from 0.86667\n",
            "66/66 [==============================] - 22s 323ms/step - loss: 0.1858 - accuracy: 0.9348 - val_loss: 0.4856 - val_accuracy: 0.8411\n",
            "Epoch 4/40\n",
            "66/66 [==============================] - ETA: 0s - loss: 0.1198 - accuracy: 0.9629\n",
            "Epoch 00004: val_accuracy improved from 0.86667 to 0.88556, saving model to best_model_VGG16_3.h5\n",
            "66/66 [==============================] - 26s 380ms/step - loss: 0.1198 - accuracy: 0.9629 - val_loss: 0.4579 - val_accuracy: 0.8856\n",
            "Epoch 5/40\n",
            "66/66 [==============================] - ETA: 0s - loss: 0.1179 - accuracy: 0.9643\n",
            "Epoch 00005: val_accuracy improved from 0.88556 to 0.88667, saving model to best_model_VGG16_3.h5\n",
            "66/66 [==============================] - 26s 381ms/step - loss: 0.1179 - accuracy: 0.9643 - val_loss: 0.3965 - val_accuracy: 0.8867\n",
            "Epoch 6/40\n",
            "66/66 [==============================] - ETA: 0s - loss: 0.0694 - accuracy: 0.9800\n",
            "Epoch 00006: val_accuracy did not improve from 0.88667\n",
            "66/66 [==============================] - 22s 323ms/step - loss: 0.0694 - accuracy: 0.9800 - val_loss: 0.5096 - val_accuracy: 0.8689\n",
            "Epoch 7/40\n",
            "66/66 [==============================] - ETA: 0s - loss: 0.0528 - accuracy: 0.9848\n",
            "Epoch 00007: val_accuracy improved from 0.88667 to 0.90000, saving model to best_model_VGG16_3.h5\n",
            "66/66 [==============================] - 26s 388ms/step - loss: 0.0528 - accuracy: 0.9848 - val_loss: 0.5150 - val_accuracy: 0.9000\n",
            "Epoch 8/40\n",
            "66/66 [==============================] - ETA: 0s - loss: 0.0404 - accuracy: 0.9895\n",
            "Epoch 00008: val_accuracy did not improve from 0.90000\n",
            "66/66 [==============================] - 22s 320ms/step - loss: 0.0404 - accuracy: 0.9895 - val_loss: 0.4461 - val_accuracy: 0.8978\n",
            "Epoch 9/40\n",
            "66/66 [==============================] - ETA: 0s - loss: 0.0367 - accuracy: 0.9905\n",
            "Epoch 00009: val_accuracy did not improve from 0.90000\n",
            "66/66 [==============================] - 22s 323ms/step - loss: 0.0367 - accuracy: 0.9905 - val_loss: 0.5616 - val_accuracy: 0.9000\n",
            "Epoch 10/40\n",
            "66/66 [==============================] - ETA: 0s - loss: 0.0838 - accuracy: 0.9757\n",
            "Epoch 00010: val_accuracy improved from 0.90000 to 0.91444, saving model to best_model_VGG16_3.h5\n",
            "66/66 [==============================] - 26s 387ms/step - loss: 0.0838 - accuracy: 0.9757 - val_loss: 0.3285 - val_accuracy: 0.9144\n",
            "Epoch 11/40\n",
            "66/66 [==============================] - ETA: 0s - loss: 0.0788 - accuracy: 0.9738\n",
            "Epoch 00011: val_accuracy improved from 0.91444 to 0.92333, saving model to best_model_VGG16_3.h5\n",
            "66/66 [==============================] - 26s 383ms/step - loss: 0.0788 - accuracy: 0.9738 - val_loss: 0.3908 - val_accuracy: 0.9233\n",
            "Epoch 12/40\n",
            "66/66 [==============================] - ETA: 0s - loss: 0.0379 - accuracy: 0.9895\n",
            "Epoch 00012: val_accuracy did not improve from 0.92333\n",
            "66/66 [==============================] - 24s 356ms/step - loss: 0.0379 - accuracy: 0.9895 - val_loss: 0.4036 - val_accuracy: 0.9167\n",
            "Epoch 13/40\n",
            "66/66 [==============================] - ETA: 0s - loss: 0.0266 - accuracy: 0.9929\n",
            "Epoch 00013: val_accuracy did not improve from 0.92333\n",
            "66/66 [==============================] - 22s 327ms/step - loss: 0.0266 - accuracy: 0.9929 - val_loss: 0.3769 - val_accuracy: 0.9078\n",
            "Epoch 14/40\n",
            "66/66 [==============================] - ETA: 0s - loss: 0.0162 - accuracy: 0.9948\n",
            "Epoch 00014: val_accuracy improved from 0.92333 to 0.92444, saving model to best_model_VGG16_3.h5\n",
            "66/66 [==============================] - 26s 384ms/step - loss: 0.0162 - accuracy: 0.9948 - val_loss: 0.4683 - val_accuracy: 0.9244\n",
            "Epoch 15/40\n",
            "66/66 [==============================] - ETA: 0s - loss: 0.0195 - accuracy: 0.9971\n",
            "Epoch 00015: val_accuracy did not improve from 0.92444\n",
            "66/66 [==============================] - 22s 321ms/step - loss: 0.0195 - accuracy: 0.9971 - val_loss: 0.2922 - val_accuracy: 0.9233\n",
            "Epoch 16/40\n",
            "66/66 [==============================] - ETA: 0s - loss: 0.0043 - accuracy: 0.9981\n",
            "Epoch 00016: val_accuracy improved from 0.92444 to 0.93889, saving model to best_model_VGG16_3.h5\n",
            "66/66 [==============================] - 26s 379ms/step - loss: 0.0043 - accuracy: 0.9981 - val_loss: 0.3214 - val_accuracy: 0.9389\n",
            "Epoch 17/40\n",
            "66/66 [==============================] - ETA: 0s - loss: 0.0070 - accuracy: 0.9981\n",
            "Epoch 00017: val_accuracy did not improve from 0.93889\n",
            "66/66 [==============================] - 22s 323ms/step - loss: 0.0070 - accuracy: 0.9981 - val_loss: 0.2717 - val_accuracy: 0.9389\n",
            "Epoch 18/40\n",
            "66/66 [==============================] - ETA: 0s - loss: 0.0079 - accuracy: 0.9981\n",
            "Epoch 00018: val_accuracy did not improve from 0.93889\n",
            "66/66 [==============================] - 22s 322ms/step - loss: 0.0079 - accuracy: 0.9981 - val_loss: 0.3033 - val_accuracy: 0.9344\n",
            "Epoch 19/40\n",
            "66/66 [==============================] - ETA: 0s - loss: 0.0044 - accuracy: 0.9986\n",
            "Epoch 00019: val_accuracy improved from 0.93889 to 0.94000, saving model to best_model_VGG16_3.h5\n",
            "66/66 [==============================] - 27s 395ms/step - loss: 0.0044 - accuracy: 0.9986 - val_loss: 0.2706 - val_accuracy: 0.9400\n",
            "Epoch 20/40\n",
            "66/66 [==============================] - ETA: 0s - loss: 0.0056 - accuracy: 0.9981\n",
            "Epoch 00020: val_accuracy did not improve from 0.94000\n",
            "66/66 [==============================] - 22s 328ms/step - loss: 0.0056 - accuracy: 0.9981 - val_loss: 0.2801 - val_accuracy: 0.9400\n",
            "Epoch 21/40\n",
            "66/66 [==============================] - ETA: 0s - loss: 0.0035 - accuracy: 0.9986\n",
            "Epoch 00021: val_accuracy did not improve from 0.94000\n",
            "66/66 [==============================] - 22s 326ms/step - loss: 0.0035 - accuracy: 0.9986 - val_loss: 0.2697 - val_accuracy: 0.9378\n",
            "Epoch 22/40\n",
            "66/66 [==============================] - ETA: 0s - loss: 0.0013 - accuracy: 0.9995\n",
            "Epoch 00022: val_accuracy improved from 0.94000 to 0.94111, saving model to best_model_VGG16_3.h5\n",
            "66/66 [==============================] - 26s 388ms/step - loss: 0.0013 - accuracy: 0.9995 - val_loss: 0.2868 - val_accuracy: 0.9411\n",
            "Epoch 23/40\n",
            "66/66 [==============================] - ETA: 0s - loss: 6.4565e-04 - accuracy: 1.0000\n",
            "Epoch 00023: val_accuracy did not improve from 0.94111\n",
            "66/66 [==============================] - 22s 325ms/step - loss: 6.4565e-04 - accuracy: 1.0000 - val_loss: 0.2890 - val_accuracy: 0.9378\n",
            "Epoch 24/40\n",
            "66/66 [==============================] - ETA: 0s - loss: 1.4133e-04 - accuracy: 1.0000\n",
            "Epoch 00024: val_accuracy did not improve from 0.94111\n",
            "66/66 [==============================] - 22s 325ms/step - loss: 1.4133e-04 - accuracy: 1.0000 - val_loss: 0.2969 - val_accuracy: 0.9378\n",
            "Epoch 25/40\n",
            "66/66 [==============================] - ETA: 0s - loss: 1.1280e-04 - accuracy: 1.0000\n",
            "Epoch 00025: val_accuracy did not improve from 0.94111\n",
            "66/66 [==============================] - 22s 327ms/step - loss: 1.1280e-04 - accuracy: 1.0000 - val_loss: 0.3008 - val_accuracy: 0.9378\n",
            "Epoch 26/40\n",
            "66/66 [==============================] - ETA: 0s - loss: 8.7843e-05 - accuracy: 1.0000\n",
            "Epoch 00026: val_accuracy did not improve from 0.94111\n",
            "66/66 [==============================] - 22s 326ms/step - loss: 8.7843e-05 - accuracy: 1.0000 - val_loss: 0.3063 - val_accuracy: 0.9378\n",
            "Epoch 27/40\n",
            "66/66 [==============================] - ETA: 0s - loss: 7.6326e-05 - accuracy: 1.0000\n",
            "Epoch 00027: val_accuracy did not improve from 0.94111\n",
            "66/66 [==============================] - 22s 326ms/step - loss: 7.6326e-05 - accuracy: 1.0000 - val_loss: 0.3097 - val_accuracy: 0.9389\n",
            "Epoch 28/40\n",
            "66/66 [==============================] - ETA: 0s - loss: 6.3400e-05 - accuracy: 1.0000\n",
            "Epoch 00028: val_accuracy did not improve from 0.94111\n",
            "66/66 [==============================] - 22s 322ms/step - loss: 6.3400e-05 - accuracy: 1.0000 - val_loss: 0.3141 - val_accuracy: 0.9378\n",
            "Epoch 29/40\n",
            "66/66 [==============================] - ETA: 0s - loss: 5.9328e-05 - accuracy: 1.0000\n",
            "Epoch 00029: val_accuracy did not improve from 0.94111\n",
            "66/66 [==============================] - 22s 326ms/step - loss: 5.9328e-05 - accuracy: 1.0000 - val_loss: 0.3166 - val_accuracy: 0.9367\n",
            "Epoch 30/40\n",
            "66/66 [==============================] - ETA: 0s - loss: 5.0389e-05 - accuracy: 1.0000\n",
            "Epoch 00030: val_accuracy did not improve from 0.94111\n",
            "66/66 [==============================] - 22s 325ms/step - loss: 5.0389e-05 - accuracy: 1.0000 - val_loss: 0.3198 - val_accuracy: 0.9367\n",
            "Epoch 31/40\n",
            "66/66 [==============================] - ETA: 0s - loss: 4.5098e-05 - accuracy: 1.0000\n",
            "Epoch 00031: val_accuracy did not improve from 0.94111\n",
            "66/66 [==============================] - 22s 325ms/step - loss: 4.5098e-05 - accuracy: 1.0000 - val_loss: 0.3223 - val_accuracy: 0.9356\n",
            "Epoch 32/40\n",
            "66/66 [==============================] - ETA: 0s - loss: 4.0109e-05 - accuracy: 1.0000\n",
            "Epoch 00032: val_accuracy did not improve from 0.94111\n",
            "66/66 [==============================] - 22s 324ms/step - loss: 4.0109e-05 - accuracy: 1.0000 - val_loss: 0.3260 - val_accuracy: 0.9356\n",
            "Epoch 33/40\n",
            "66/66 [==============================] - ETA: 0s - loss: 3.7180e-05 - accuracy: 1.0000\n",
            "Epoch 00033: val_accuracy did not improve from 0.94111\n",
            "66/66 [==============================] - 22s 322ms/step - loss: 3.7180e-05 - accuracy: 1.0000 - val_loss: 0.3279 - val_accuracy: 0.9356\n",
            "Epoch 34/40\n",
            "66/66 [==============================] - ETA: 0s - loss: 3.4124e-05 - accuracy: 1.0000\n",
            "Epoch 00034: val_accuracy did not improve from 0.94111\n",
            "66/66 [==============================] - 22s 322ms/step - loss: 3.4124e-05 - accuracy: 1.0000 - val_loss: 0.3299 - val_accuracy: 0.9356\n",
            "Epoch 35/40\n",
            "66/66 [==============================] - ETA: 0s - loss: 3.0257e-05 - accuracy: 1.0000\n",
            "Epoch 00035: val_accuracy did not improve from 0.94111\n",
            "66/66 [==============================] - 22s 321ms/step - loss: 3.0257e-05 - accuracy: 1.0000 - val_loss: 0.3320 - val_accuracy: 0.9356\n",
            "Epoch 36/40\n",
            "66/66 [==============================] - ETA: 0s - loss: 2.6970e-05 - accuracy: 1.0000\n",
            "Epoch 00036: val_accuracy did not improve from 0.94111\n",
            "66/66 [==============================] - 22s 322ms/step - loss: 2.6970e-05 - accuracy: 1.0000 - val_loss: 0.3346 - val_accuracy: 0.9356\n",
            "Epoch 37/40\n",
            "66/66 [==============================] - ETA: 0s - loss: 2.4662e-05 - accuracy: 1.0000\n",
            "Epoch 00037: val_accuracy did not improve from 0.94111\n",
            "66/66 [==============================] - 22s 321ms/step - loss: 2.4662e-05 - accuracy: 1.0000 - val_loss: 0.3369 - val_accuracy: 0.9356\n",
            "Epoch 38/40\n",
            "66/66 [==============================] - ETA: 0s - loss: 2.3318e-05 - accuracy: 1.0000\n",
            "Epoch 00038: val_accuracy did not improve from 0.94111\n",
            "66/66 [==============================] - 22s 323ms/step - loss: 2.3318e-05 - accuracy: 1.0000 - val_loss: 0.3384 - val_accuracy: 0.9356\n",
            "Epoch 39/40\n",
            "66/66 [==============================] - ETA: 0s - loss: 2.1331e-05 - accuracy: 1.0000\n",
            "Epoch 00039: val_accuracy did not improve from 0.94111\n",
            "66/66 [==============================] - 22s 326ms/step - loss: 2.1331e-05 - accuracy: 1.0000 - val_loss: 0.3401 - val_accuracy: 0.9356\n",
            "Epoch 40/40\n",
            "66/66 [==============================] - ETA: 0s - loss: 1.9224e-05 - accuracy: 1.0000\n",
            "Epoch 00040: val_accuracy did not improve from 0.94111\n",
            "66/66 [==============================] - 22s 326ms/step - loss: 1.9224e-05 - accuracy: 1.0000 - val_loss: 0.3422 - val_accuracy: 0.9356\n"
          ]
        }
      ],
      "source": [
        "# trianing the model and saving data to history\n",
        "history = model.fit(train_dataset, validation_data=validate_dataset, epochs = 40, callbacks=[es, mc])"
      ]
    },
    {
      "cell_type": "code",
      "source": [
        "# loading saved model\n",
        "model.load_weights('best_model_VGG16_3.h5')"
      ],
      "metadata": {
        "id": "P2k66eEPlkvg"
      },
      "execution_count": null,
      "outputs": []
    },
    {
      "cell_type": "code",
      "execution_count": null,
      "metadata": {
        "id": "1WYfaXvzgUAD"
      },
      "outputs": [],
      "source": [
        "# finding all predictions using numpy and appending so that f1 score ect can be evalutated\n",
        "import numpy as np\n",
        "predictions = np.array([])\n",
        "labels =  np.array([])\n",
        "for x, y in test_dataset:\n",
        "  predictions = np.concatenate([predictions, np.argmax(model.predict(x), axis = -1)])\n",
        "\n",
        "  labels = np.concatenate([labels, y])"
      ]
    },
    {
      "cell_type": "code",
      "source": [
        "# creating direcdtory to put figures in\n",
        "try:\n",
        "  os.mkdir(path + '/figures')\n",
        "except:\n",
        "  print('Directory exists')"
      ],
      "metadata": {
        "colab": {
          "base_uri": "https://localhost:8080/"
        },
        "id": "uZ8ztQPqNGTo",
        "outputId": "affd3d0d-63f8-40bb-e811-f11eb2304314"
      },
      "execution_count": null,
      "outputs": [
        {
          "output_type": "stream",
          "name": "stdout",
          "text": [
            "Directory exists\n"
          ]
        }
      ]
    },
    {
      "cell_type": "code",
      "execution_count": null,
      "metadata": {
        "colab": {
          "base_uri": "https://localhost:8080/",
          "height": 283
        },
        "id": "mc-47FB91HqC",
        "outputId": "ebf7edfa-a3b3-4cf2-ef32-b6cf2d87599d"
      },
      "outputs": [
        {
          "output_type": "display_data",
          "data": {
            "image/png": "[encoded data removed]",
            "text/plain": [
              "<Figure size 432x288 with 2 Axes>"
            ]
          },
          "metadata": {
            "needs_background": "light"
          }
        }
      ],
      "source": [
        "# showing confusion matrix of model to assess performance\n",
        "from sklearn.metrics import ConfusionMatrixDisplay\n",
        "confusion_matrix = ConfusionMatrixDisplay.from_predictions(labels, predictions, normalize='true')\n",
        "\n",
        "confusion_matrix.figure_.savefig(os.getcwd() + '/figures/confusion_matrix_VGG16_2.png')"
      ]
    },
    {
      "cell_type": "code",
      "execution_count": null,
      "metadata": {
        "colab": {
          "base_uri": "https://localhost:8080/",
          "height": 517
        },
        "id": "irpwajeq1NOL",
        "outputId": "af8b86ec-f7fc-4721-99d5-64bb49411817"
      },
      "outputs": [
        {
          "output_type": "display_data",
          "data": {
            "image/png": "[encoded data removed]",
            "text/plain": [
              "<Figure size 1152x576 with 1 Axes>"
            ]
          },
          "metadata": {}
        }
      ],
      "source": [
        "# plotting loss\n",
        "import matplotlib.pyplot as plt\n",
        "\n",
        "plt.style.use('ggplot')\n",
        "\n",
        "plt.figure(figsize=(16, 8))\n",
        "plt.plot(history.history['loss'])\n",
        "plt.plot(history.history['val_loss'])\n",
        "plt.title('Model loss no augmentation')\n",
        "plt.ylabel('loss')\n",
        "plt.xlabel('epoch')\n",
        "plt.legend(['train', 'val'], loc='upper left')\n",
        "plt.savefig( os.getcwd() + '/figures/loss_VGG16_3.png')\n",
        "plt.show()"
      ]
    },
    {
      "cell_type": "code",
      "execution_count": null,
      "metadata": {
        "colab": {
          "base_uri": "https://localhost:8080/",
          "height": 517
        },
        "id": "DqtqhtvU1POf",
        "outputId": "f733b789-845c-4196-cde2-d4149b19fb37"
      },
      "outputs": [
        {
          "output_type": "display_data",
          "data": {
            "image/png": "[encoded data removed]",
            "text/plain": [
              "<Figure size 1152x576 with 1 Axes>"
            ]
          },
          "metadata": {}
        }
      ],
      "source": [
        "# plotting accuracy\n",
        "import matplotlib.pyplot as plt\n",
        "\n",
        "plt.figure(figsize=(16, 8))\n",
        "plt.plot(history.history['accuracy'])\n",
        "plt.plot(history.history['val_accuracy'])\n",
        "plt.title('Model accuracy no augmentation')\n",
        "plt.ylabel('accuracy')\n",
        "plt.xlabel('epoch')\n",
        "plt.legend(['train', 'val'], loc='upper left')\n",
        "plt.savefig( './figures/accuracy_VGG16_3.png')\n",
        "plt.show()"
      ]
    },
    {
      "cell_type": "code",
      "source": [
        "# showing accuracy\n",
        "from sklearn.metrics import accuracy_score\n",
        "\n",
        "accuracy_score(labels, predictions)"
      ],
      "metadata": {
        "colab": {
          "base_uri": "https://localhost:8080/"
        },
        "id": "0YqnvXBrvQKm",
        "outputId": "4a26f0a7-c73d-459a-df75-9291851fc612"
      },
      "execution_count": null,
      "outputs": [
        {
          "output_type": "execute_result",
          "data": {
            "text/plain": [
              "0.935"
            ]
          },
          "metadata": {},
          "execution_count": 36
        }
      ]
    },
    {
      "cell_type": "markdown",
      "metadata": {
        "id": "HNFKLhdBTBOa"
      },
      "source": [
        "# Xception"
      ]
    },
    {
      "cell_type": "code",
      "execution_count": null,
      "metadata": {
        "id": "fuLixCJ1CSpk"
      },
      "outputs": [],
      "source": [
        "# importing xception model without head\n",
        "import tensorflow as tf\n",
        "xception_model = tf.keras.applications.Xception(\n",
        "    include_top=False,\n",
        "    weights=\"imagenet\",\n",
        "    input_tensor=None,\n",
        "    input_shape=(256, 256, 3),\n",
        "    pooling=None\n",
        ")\n"
      ]
    },
    {
      "cell_type": "code",
      "execution_count": null,
      "metadata": {
        "id": "GMNznCg8AbKF"
      },
      "outputs": [],
      "source": [
        "# making all layers trainable\n",
        "for layer in model.layers:\n",
        "  layer.trainable = True"
      ]
    },
    {
      "cell_type": "code",
      "execution_count": null,
      "metadata": {
        "id": "1DpXBparUAxj"
      },
      "outputs": [],
      "source": [
        "# adding additional layers to model for classification\n",
        "from keras.models import Model\n",
        "from tensorflow.keras.layers import Flatten, Dense\n",
        "from tensorflow.keras import models\n",
        "\n",
        "\n",
        "\n",
        "\n",
        "model = models.Sequential([\n",
        "    xception_model,\n",
        "    Flatten(),\n",
        "    Dense(1024, activation='relu'),\n",
        "    Dense(4, activation='softmax')\n",
        "])"
      ]
    },
    {
      "cell_type": "code",
      "execution_count": null,
      "metadata": {
        "id": "8oEjyc84Ucph"
      },
      "outputs": [],
      "source": [
        "# compiling model with loss function and optimiser along with callbacks to save the most important model and early stopping to avoid unnecesary training\n",
        "\n",
        "from tensorflow.keras.losses import SparseCategoricalCrossentropy\n",
        "from tensorflow.keras.optimizers import Adam\n",
        "\n",
        "from keras.callbacks import EarlyStopping\n",
        "from keras.callbacks import ModelCheckpoint\n",
        "\n",
        "es = EarlyStopping(monitor='val_loss', mode='min', verbose=1, patience=20)\n",
        "mc = ModelCheckpoint('best_model_Xception_1.h5', monitor='val_accuracy', mode='max', verbose=1, save_best_only=True)\n",
        "\n",
        "model.compile(optimizer=Adam(learning_rate=0.00004), loss=SparseCategoricalCrossentropy(), metrics=['accuracy'])"
      ]
    },
    {
      "cell_type": "code",
      "execution_count": null,
      "metadata": {
        "colab": {
          "base_uri": "https://localhost:8080/"
        },
        "id": "rh_VH8lOUusR",
        "outputId": "272090c9-81f7-43a3-fb93-f99c2ae609c8"
      },
      "outputs": [
        {
          "output_type": "stream",
          "name": "stdout",
          "text": [
            "Epoch 1/40\n",
            "66/66 [==============================] - ETA: 0s - loss: 0.6767 - accuracy: 0.7571\n",
            "Epoch 00001: val_accuracy improved from -inf to 0.76889, saving model to best_model_Xception_1.h5\n"
          ]
        },
        {
          "output_type": "stream",
          "name": "stderr",
          "text": [
            "/usr/local/lib/python3.7/dist-packages/keras/engine/functional.py:1410: CustomMaskWarning: Custom mask layers require a config and must override get_config. When loading, the custom mask layer must be passed to the custom_objects argument.\n",
            "  layer_config = serialize_layer_fn(layer)\n"
          ]
        },
        {
          "output_type": "stream",
          "name": "stdout",
          "text": [
            "\b\b\b\b\b\b\b\b\b\b\b\b\b\b\b\b\b\b\b\b\b\b\b\b\b\b\b\b\b\b\b\b\b\b\b\b\b\b\b\b\b\b\b\b\b\b\b\b\b\b\b\b\b\b\b\b\b\b\b\b\b\b\b\b\b\b\b\b\b\b\b\b\b\b\b\b\b\b\b\b\b\b\r66/66 [==============================] - 54s 739ms/step - loss: 0.6767 - accuracy: 0.7571 - val_loss: 0.6543 - val_accuracy: 0.7689\n",
            "Epoch 2/40\n",
            "66/66 [==============================] - ETA: 0s - loss: 0.1096 - accuracy: 0.9629\n",
            "Epoch 00002: val_accuracy improved from 0.76889 to 0.80000, saving model to best_model_Xception_1.h5\n",
            "66/66 [==============================] - 56s 836ms/step - loss: 0.1096 - accuracy: 0.9629 - val_loss: 0.9030 - val_accuracy: 0.8000\n",
            "Epoch 3/40\n",
            "66/66 [==============================] - ETA: 0s - loss: 0.0314 - accuracy: 0.9919\n",
            "Epoch 00003: val_accuracy improved from 0.80000 to 0.88222, saving model to best_model_Xception_1.h5\n",
            "66/66 [==============================] - 54s 804ms/step - loss: 0.0314 - accuracy: 0.9919 - val_loss: 0.5711 - val_accuracy: 0.8822\n",
            "Epoch 4/40\n",
            "66/66 [==============================] - ETA: 0s - loss: 0.0067 - accuracy: 0.9986\n",
            "Epoch 00004: val_accuracy improved from 0.88222 to 0.90778, saving model to best_model_Xception_1.h5\n",
            "66/66 [==============================] - 55s 828ms/step - loss: 0.0067 - accuracy: 0.9986 - val_loss: 0.4990 - val_accuracy: 0.9078\n",
            "Epoch 5/40\n",
            "66/66 [==============================] - ETA: 0s - loss: 0.0043 - accuracy: 0.9986\n",
            "Epoch 00005: val_accuracy improved from 0.90778 to 0.91333, saving model to best_model_Xception_1.h5\n",
            "66/66 [==============================] - 53s 800ms/step - loss: 0.0043 - accuracy: 0.9986 - val_loss: 0.4922 - val_accuracy: 0.9133\n",
            "Epoch 6/40\n",
            "66/66 [==============================] - ETA: 0s - loss: 7.4653e-04 - accuracy: 1.0000\n",
            "Epoch 00006: val_accuracy improved from 0.91333 to 0.91556, saving model to best_model_Xception_1.h5\n",
            "66/66 [==============================] - 56s 838ms/step - loss: 7.4653e-04 - accuracy: 1.0000 - val_loss: 0.4823 - val_accuracy: 0.9156\n",
            "Epoch 7/40\n",
            "66/66 [==============================] - ETA: 0s - loss: 7.1655e-04 - accuracy: 1.0000\n",
            "Epoch 00007: val_accuracy did not improve from 0.91556\n",
            "66/66 [==============================] - 39s 581ms/step - loss: 7.1655e-04 - accuracy: 1.0000 - val_loss: 0.5209 - val_accuracy: 0.9133\n",
            "Epoch 8/40\n",
            "66/66 [==============================] - ETA: 0s - loss: 2.8612e-04 - accuracy: 1.0000\n",
            "Epoch 00008: val_accuracy did not improve from 0.91556\n",
            "66/66 [==============================] - 39s 576ms/step - loss: 2.8612e-04 - accuracy: 1.0000 - val_loss: 0.4923 - val_accuracy: 0.9144\n",
            "Epoch 9/40\n",
            "66/66 [==============================] - ETA: 0s - loss: 0.0052 - accuracy: 0.9986\n",
            "Epoch 00009: val_accuracy did not improve from 0.91556\n",
            "66/66 [==============================] - 39s 575ms/step - loss: 0.0052 - accuracy: 0.9986 - val_loss: 0.4892 - val_accuracy: 0.9011\n",
            "Epoch 10/40\n",
            "66/66 [==============================] - ETA: 0s - loss: 0.1129 - accuracy: 0.9700\n",
            "Epoch 00010: val_accuracy did not improve from 0.91556\n",
            "66/66 [==============================] - 39s 578ms/step - loss: 0.1129 - accuracy: 0.9700 - val_loss: 0.5615 - val_accuracy: 0.8978\n",
            "Epoch 11/40\n",
            "66/66 [==============================] - ETA: 0s - loss: 0.0457 - accuracy: 0.9862\n",
            "Epoch 00011: val_accuracy improved from 0.91556 to 0.92333, saving model to best_model_Xception_1.h5\n",
            "66/66 [==============================] - 55s 832ms/step - loss: 0.0457 - accuracy: 0.9862 - val_loss: 0.4838 - val_accuracy: 0.9233\n",
            "Epoch 12/40\n",
            "66/66 [==============================] - ETA: 0s - loss: 0.0183 - accuracy: 0.9957\n",
            "Epoch 00012: val_accuracy did not improve from 0.92333\n",
            "66/66 [==============================] - 39s 580ms/step - loss: 0.0183 - accuracy: 0.9957 - val_loss: 0.4333 - val_accuracy: 0.9144\n",
            "Epoch 13/40\n",
            "66/66 [==============================] - ETA: 0s - loss: 0.0143 - accuracy: 0.9952\n",
            "Epoch 00013: val_accuracy did not improve from 0.92333\n",
            "66/66 [==============================] - 39s 579ms/step - loss: 0.0143 - accuracy: 0.9952 - val_loss: 0.4463 - val_accuracy: 0.9144\n",
            "Epoch 14/40\n",
            "66/66 [==============================] - ETA: 0s - loss: 0.0220 - accuracy: 0.9938\n",
            "Epoch 00014: val_accuracy did not improve from 0.92333\n",
            "66/66 [==============================] - 39s 578ms/step - loss: 0.0220 - accuracy: 0.9938 - val_loss: 0.4926 - val_accuracy: 0.9100\n",
            "Epoch 15/40\n",
            "66/66 [==============================] - ETA: 0s - loss: 0.0127 - accuracy: 0.9967\n",
            "Epoch 00015: val_accuracy did not improve from 0.92333\n",
            "66/66 [==============================] - 39s 578ms/step - loss: 0.0127 - accuracy: 0.9967 - val_loss: 0.4478 - val_accuracy: 0.9189\n",
            "Epoch 16/40\n",
            "66/66 [==============================] - ETA: 0s - loss: 0.0038 - accuracy: 0.9986\n",
            "Epoch 00016: val_accuracy improved from 0.92333 to 0.92444, saving model to best_model_Xception_1.h5\n",
            "66/66 [==============================] - 55s 827ms/step - loss: 0.0038 - accuracy: 0.9986 - val_loss: 0.4715 - val_accuracy: 0.9244\n",
            "Epoch 17/40\n",
            "66/66 [==============================] - ETA: 0s - loss: 0.0016 - accuracy: 0.9995\n",
            "Epoch 00017: val_accuracy did not improve from 0.92444\n",
            "66/66 [==============================] - 39s 578ms/step - loss: 0.0016 - accuracy: 0.9995 - val_loss: 0.4733 - val_accuracy: 0.9200\n",
            "Epoch 18/40\n",
            "66/66 [==============================] - ETA: 0s - loss: 9.4756e-04 - accuracy: 0.9995\n",
            "Epoch 00018: val_accuracy did not improve from 0.92444\n",
            "66/66 [==============================] - 39s 579ms/step - loss: 9.4756e-04 - accuracy: 0.9995 - val_loss: 0.4826 - val_accuracy: 0.9189\n",
            "Epoch 19/40\n",
            "66/66 [==============================] - ETA: 0s - loss: 5.5851e-04 - accuracy: 1.0000\n",
            "Epoch 00019: val_accuracy did not improve from 0.92444\n",
            "66/66 [==============================] - 39s 579ms/step - loss: 5.5851e-04 - accuracy: 1.0000 - val_loss: 0.5037 - val_accuracy: 0.9178\n",
            "Epoch 20/40\n",
            "66/66 [==============================] - ETA: 0s - loss: 3.2732e-04 - accuracy: 1.0000\n",
            "Epoch 00020: val_accuracy did not improve from 0.92444\n",
            "66/66 [==============================] - 39s 576ms/step - loss: 3.2732e-04 - accuracy: 1.0000 - val_loss: 0.5209 - val_accuracy: 0.9167\n",
            "Epoch 21/40\n",
            "66/66 [==============================] - ETA: 0s - loss: 0.0029 - accuracy: 0.9981\n",
            "Epoch 00021: val_accuracy did not improve from 0.92444\n",
            "66/66 [==============================] - 39s 576ms/step - loss: 0.0029 - accuracy: 0.9981 - val_loss: 0.5682 - val_accuracy: 0.9067\n",
            "Epoch 22/40\n",
            "66/66 [==============================] - ETA: 0s - loss: 0.0164 - accuracy: 0.9957\n",
            "Epoch 00022: val_accuracy did not improve from 0.92444\n",
            "66/66 [==============================] - 39s 578ms/step - loss: 0.0164 - accuracy: 0.9957 - val_loss: 0.5173 - val_accuracy: 0.9122\n",
            "Epoch 23/40\n",
            "66/66 [==============================] - ETA: 0s - loss: 0.0087 - accuracy: 0.9971\n",
            "Epoch 00023: val_accuracy did not improve from 0.92444\n",
            "66/66 [==============================] - 39s 577ms/step - loss: 0.0087 - accuracy: 0.9971 - val_loss: 0.4959 - val_accuracy: 0.9178\n",
            "Epoch 24/40\n",
            "66/66 [==============================] - ETA: 0s - loss: 0.0062 - accuracy: 0.9981\n",
            "Epoch 00024: val_accuracy did not improve from 0.92444\n",
            "66/66 [==============================] - 39s 579ms/step - loss: 0.0062 - accuracy: 0.9981 - val_loss: 0.4377 - val_accuracy: 0.9133\n",
            "Epoch 25/40\n",
            "66/66 [==============================] - ETA: 0s - loss: 0.0022 - accuracy: 0.9986\n",
            "Epoch 00025: val_accuracy did not improve from 0.92444\n",
            "66/66 [==============================] - 39s 575ms/step - loss: 0.0022 - accuracy: 0.9986 - val_loss: 0.5564 - val_accuracy: 0.9178\n",
            "Epoch 26/40\n",
            "66/66 [==============================] - ETA: 0s - loss: 0.0170 - accuracy: 0.9957\n",
            "Epoch 00026: val_accuracy did not improve from 0.92444\n",
            "66/66 [==============================] - 39s 578ms/step - loss: 0.0170 - accuracy: 0.9957 - val_loss: 0.5013 - val_accuracy: 0.9211\n",
            "Epoch 27/40\n",
            "66/66 [==============================] - ETA: 0s - loss: 0.0040 - accuracy: 0.9990\n",
            "Epoch 00027: val_accuracy did not improve from 0.92444\n",
            "66/66 [==============================] - 39s 577ms/step - loss: 0.0040 - accuracy: 0.9990 - val_loss: 0.4873 - val_accuracy: 0.9233\n",
            "Epoch 28/40\n",
            "66/66 [==============================] - ETA: 0s - loss: 2.6556e-04 - accuracy: 1.0000\n",
            "Epoch 00028: val_accuracy improved from 0.92444 to 0.92556, saving model to best_model_Xception_1.h5\n",
            "66/66 [==============================] - 53s 804ms/step - loss: 2.6556e-04 - accuracy: 1.0000 - val_loss: 0.4828 - val_accuracy: 0.9256\n",
            "Epoch 29/40\n",
            "66/66 [==============================] - ETA: 0s - loss: 1.6330e-04 - accuracy: 1.0000\n",
            "Epoch 00029: val_accuracy improved from 0.92556 to 0.92778, saving model to best_model_Xception_1.h5\n",
            "66/66 [==============================] - 54s 806ms/step - loss: 1.6330e-04 - accuracy: 1.0000 - val_loss: 0.5050 - val_accuracy: 0.9278\n",
            "Epoch 30/40\n",
            "66/66 [==============================] - ETA: 0s - loss: 6.4076e-05 - accuracy: 1.0000\n",
            "Epoch 00030: val_accuracy did not improve from 0.92778\n",
            "66/66 [==============================] - 39s 579ms/step - loss: 6.4076e-05 - accuracy: 1.0000 - val_loss: 0.5203 - val_accuracy: 0.9278\n",
            "Epoch 31/40\n",
            "66/66 [==============================] - ETA: 0s - loss: 6.2584e-05 - accuracy: 1.0000\n",
            "Epoch 00031: val_accuracy improved from 0.92778 to 0.92889, saving model to best_model_Xception_1.h5\n",
            "66/66 [==============================] - 54s 811ms/step - loss: 6.2584e-05 - accuracy: 1.0000 - val_loss: 0.5381 - val_accuracy: 0.9289\n",
            "Epoch 32/40\n",
            "66/66 [==============================] - ETA: 0s - loss: 0.0163 - accuracy: 0.9943\n",
            "Epoch 00032: val_accuracy did not improve from 0.92889\n",
            "66/66 [==============================] - 39s 578ms/step - loss: 0.0163 - accuracy: 0.9943 - val_loss: 0.5254 - val_accuracy: 0.9033\n",
            "Epoch 00032: early stopping\n"
          ]
        }
      ],
      "source": [
        "# training model\n",
        "history = model.fit(train_dataset, validation_data=validate_dataset, epochs = 40, callbacks=[es, mc])"
      ]
    },
    {
      "cell_type": "code",
      "source": [
        "# loading best model for evaluation\n",
        "model.load_weights('best_model_Xception_1')"
      ],
      "metadata": {
        "id": "iu2jHL2nmOz1"
      },
      "execution_count": null,
      "outputs": []
    },
    {
      "cell_type": "code",
      "execution_count": null,
      "metadata": {
        "id": "b1EUiC9tV-HG"
      },
      "outputs": [],
      "source": [
        "# creating predictions\n",
        "import numpy as np\n",
        "predictions = np.array([])\n",
        "labels =  np.array([])\n",
        "for x, y in test_dataset:\n",
        "  predictions = np.concatenate([predictions, np.argmax(model.predict(x), axis = -1)])\n",
        "\n",
        "  labels = np.concatenate([labels, y])"
      ]
    },
    {
      "cell_type": "code",
      "execution_count": null,
      "metadata": {
        "colab": {
          "base_uri": "https://localhost:8080/",
          "height": 286
        },
        "id": "vTG17ALHWBOn",
        "outputId": "c20debe9-f27d-477e-d85e-50e6d1a8d195"
      },
      "outputs": [
        {
          "output_type": "display_data",
          "data": {
            "image/png": "[encoded data removed]",
            "text/plain": [
              "<Figure size 432x288 with 2 Axes>"
            ]
          },
          "metadata": {}
        }
      ],
      "source": [
        "# plotting confusion matrix\n",
        "from sklearn.metrics import ConfusionMatrixDisplay\n",
        "confusion_matrix = ConfusionMatrixDisplay.from_predictions(labels, predictions, normalize='true')\n",
        "\n",
        "confusion_matrix.figure_.savefig(os.getcwd() + '/figures/confusion_matrix_xception_2.png')"
      ]
    },
    {
      "cell_type": "code",
      "execution_count": null,
      "metadata": {
        "colab": {
          "base_uri": "https://localhost:8080/",
          "height": 517
        },
        "id": "IuvlHBH9WCwh",
        "outputId": "d047a67c-1a19-4878-c0d4-5c08cc2119cf"
      },
      "outputs": [
        {
          "output_type": "display_data",
          "data": {
            "image/png": "[encoded data removed]",
            "text/plain": [
              "<Figure size 1152x576 with 1 Axes>"
            ]
          },
          "metadata": {}
        }
      ],
      "source": [
        "# plotting loss function\n",
        "import matplotlib.pyplot as plt\n",
        "\n",
        "plt.style.use('ggplot')\n",
        "\n",
        "plt.figure(figsize=(16, 8))\n",
        "plt.plot(history.history['loss'])\n",
        "plt.plot(history.history['val_loss'])\n",
        "plt.title('Model loss no augmentation')\n",
        "plt.ylabel('loss')\n",
        "plt.xlabel('epoch')\n",
        "plt.legend(['train', 'val'], loc='upper left')\n",
        "plt.savefig( os.getcwd() + '/figures/loss_xception_2.png')\n",
        "plt.show()"
      ]
    },
    {
      "cell_type": "code",
      "execution_count": null,
      "metadata": {
        "colab": {
          "base_uri": "https://localhost:8080/",
          "height": 517
        },
        "id": "7V0OnmazWEcG",
        "outputId": "06640391-c36b-469e-ba63-ea62682a8742"
      },
      "outputs": [
        {
          "output_type": "display_data",
          "data": {
            "image/png": "[encoded data removed]",
            "text/plain": [
              "<Figure size 1152x576 with 1 Axes>"
            ]
          },
          "metadata": {}
        }
      ],
      "source": [
        "# plotting accuracy\n",
        "import matplotlib.pyplot as plt\n",
        "\n",
        "plt.figure(figsize=(16, 8))\n",
        "plt.plot(history.history['accuracy'])\n",
        "plt.plot(history.history['val_accuracy'])\n",
        "plt.title('Model accuracy no augmentation')\n",
        "plt.ylabel('accuracy')\n",
        "plt.xlabel('epoch')\n",
        "plt.legend(['train', 'val'], loc='upper left')\n",
        "plt.savefig( './figures/accuracy_xception_2.png')\n",
        "plt.show()"
      ]
    },
    {
      "cell_type": "code",
      "source": [
        "# showing accuracy on test dataset\n",
        "from sklearn.metrics import accuracy_score\n",
        "\n",
        "accuracy_score(labels, predictions)"
      ],
      "metadata": {
        "colab": {
          "base_uri": "https://localhost:8080/"
        },
        "id": "bgQEKWhmvNWO",
        "outputId": "819692a6-bcf9-442b-cecb-44de6f2941e3"
      },
      "execution_count": null,
      "outputs": [
        {
          "output_type": "execute_result",
          "data": {
            "text/plain": [
              "0.94"
            ]
          },
          "metadata": {},
          "execution_count": 70
        }
      ]
    },
    {
      "cell_type": "markdown",
      "metadata": {
        "id": "SLcr75l7WjVr"
      },
      "source": [
        "# Efficient Net"
      ]
    },
    {
      "cell_type": "code",
      "execution_count": null,
      "metadata": {
        "id": "MfrPMOdmWmKl",
        "colab": {
          "base_uri": "https://localhost:8080/"
        },
        "outputId": "2683af43-b552-4534-b22c-3a218ae181da"
      },
      "outputs": [
        {
          "output_type": "stream",
          "name": "stdout",
          "text": [
            "Downloading data from https://storage.googleapis.com/keras-applications/efficientnetb4_notop.h5\n",
            "71688192/71686520 [==============================] - 1s 0us/step\n",
            "71696384/71686520 [==============================] - 1s 0us/step\n"
          ]
        }
      ],
      "source": [
        "# importing efficientNetB4 without head\n",
        "import tensorflow as tf\n",
        "efficient_model = tf.keras.applications.EfficientNetB4(\n",
        "    include_top=False,\n",
        "    weights=\"imagenet\",\n",
        "    input_tensor=None,\n",
        "    input_shape=(256, 256, 3),\n",
        "    pooling=True,\n",
        "    classes=1000,\n",
        "    classifier_activation=\"softmax\"\n",
        ")\n"
      ]
    },
    {
      "cell_type": "code",
      "execution_count": null,
      "metadata": {
        "id": "yS91PPagW9fi"
      },
      "outputs": [],
      "source": [
        "# adding layers for classification\n",
        "from keras.models import Model\n",
        "from tensorflow.keras.layers import Flatten, Dense\n",
        "from tensorflow.keras import models\n",
        "\n",
        "\n",
        "# model = Model(inputs=model.inputs, outputs=output)\n",
        "\n",
        "\n",
        "model = models.Sequential([\n",
        "    efficient_model,\n",
        "    Flatten(),\n",
        "    Dense(10, activation='relu'),\n",
        "    Dense(4, activation='softmax')\n",
        "])"
      ]
    },
    {
      "cell_type": "code",
      "execution_count": null,
      "metadata": {
        "id": "FTOw5L14XAyS"
      },
      "outputs": [],
      "source": [
        "# compiling model with loss function and optimiser along with callbacks to save the most important model and early stopping to avoid unnecesary training\n",
        "\n",
        "from tensorflow.keras.losses import SparseCategoricalCrossentropy\n",
        "from tensorflow.keras.optimizers import Adam\n",
        "from keras.callbacks import EarlyStopping\n",
        "from keras.callbacks import ModelCheckpoint\n",
        "\n",
        "es = EarlyStopping(monitor='val_loss', mode='min', verbose=1, patience=10)\n",
        "mc = ModelCheckpoint('best_model_efficient_5.h5', monitor='val_accuracy', mode='max', verbose=1, save_best_only=True)\n",
        "\n",
        "model.compile(optimizer=Adam(learning_rate=0.00004, beta_1=0.99), loss=SparseCategoricalCrossentropy(), metrics=['accuracy'])"
      ]
    },
    {
      "cell_type": "code",
      "execution_count": null,
      "metadata": {
        "colab": {
          "base_uri": "https://localhost:8080/"
        },
        "id": "336nQqxMfqgM",
        "outputId": "876e5599-6b47-4924-cf25-ef5060127463"
      },
      "outputs": [
        {
          "output_type": "stream",
          "name": "stdout",
          "text": [
            "Epoch 1/50\n",
            "66/66 [==============================] - ETA: 0s - loss: 0.7451 - accuracy: 0.6957\n",
            "Epoch 00001: val_accuracy improved from -inf to 0.67333, saving model to best_model_efficient_5.h5\n"
          ]
        },
        {
          "output_type": "stream",
          "name": "stderr",
          "text": [
            "/usr/local/lib/python3.7/dist-packages/keras/engine/functional.py:1410: CustomMaskWarning: Custom mask layers require a config and must override get_config. When loading, the custom mask layer must be passed to the custom_objects argument.\n",
            "  layer_config = serialize_layer_fn(layer)\n"
          ]
        },
        {
          "output_type": "stream",
          "name": "stdout",
          "text": [
            "\b\b\b\b\b\b\b\b\b\b\b\b\b\b\b\b\b\b\b\b\b\b\b\b\b\b\b\b\b\b\b\b\b\b\b\b\b\b\b\b\b\b\b\b\b\b\b\b\b\b\b\b\b\b\b\b\b\b\b\b\b\b\b\b\b\b\b\b\b\b\b\b\b\b\b\b\b\b\b\b\b\b\r66/66 [==============================] - 268s 3s/step - loss: 0.7451 - accuracy: 0.6957 - val_loss: 0.8464 - val_accuracy: 0.6733\n",
            "Epoch 2/50\n",
            "66/66 [==============================] - ETA: 0s - loss: 0.2710 - accuracy: 0.9014\n",
            "Epoch 00002: val_accuracy improved from 0.67333 to 0.76667, saving model to best_model_efficient_5.h5\n",
            "66/66 [==============================] - 50s 755ms/step - loss: 0.2710 - accuracy: 0.9014 - val_loss: 0.6011 - val_accuracy: 0.7667\n",
            "Epoch 3/50\n",
            "66/66 [==============================] - ETA: 0s - loss: 0.1355 - accuracy: 0.9514\n",
            "Epoch 00003: val_accuracy did not improve from 0.76667\n",
            "66/66 [==============================] - 47s 700ms/step - loss: 0.1355 - accuracy: 0.9514 - val_loss: 0.7228 - val_accuracy: 0.7433\n",
            "Epoch 4/50\n",
            "66/66 [==============================] - ETA: 0s - loss: 0.0742 - accuracy: 0.9752\n",
            "Epoch 00004: val_accuracy did not improve from 0.76667\n",
            "66/66 [==============================] - 47s 700ms/step - loss: 0.0742 - accuracy: 0.9752 - val_loss: 0.8977 - val_accuracy: 0.7144\n",
            "Epoch 5/50\n",
            "66/66 [==============================] - ETA: 0s - loss: 0.0418 - accuracy: 0.9871\n",
            "Epoch 00005: val_accuracy did not improve from 0.76667\n",
            "66/66 [==============================] - 47s 703ms/step - loss: 0.0418 - accuracy: 0.9871 - val_loss: 0.8938 - val_accuracy: 0.7178\n",
            "Epoch 6/50\n",
            "66/66 [==============================] - ETA: 0s - loss: 0.0285 - accuracy: 0.9910\n",
            "Epoch 00006: val_accuracy did not improve from 0.76667\n",
            "66/66 [==============================] - 47s 700ms/step - loss: 0.0285 - accuracy: 0.9910 - val_loss: 0.8587 - val_accuracy: 0.7300\n",
            "Epoch 7/50\n",
            "66/66 [==============================] - ETA: 0s - loss: 0.0200 - accuracy: 0.9948\n",
            "Epoch 00007: val_accuracy did not improve from 0.76667\n",
            "66/66 [==============================] - 47s 699ms/step - loss: 0.0200 - accuracy: 0.9948 - val_loss: 0.9115 - val_accuracy: 0.7256\n",
            "Epoch 8/50\n",
            "66/66 [==============================] - ETA: 0s - loss: 0.0157 - accuracy: 0.9962\n",
            "Epoch 00008: val_accuracy improved from 0.76667 to 0.82111, saving model to best_model_efficient_5.h5\n",
            "66/66 [==============================] - 51s 760ms/step - loss: 0.0157 - accuracy: 0.9962 - val_loss: 0.5843 - val_accuracy: 0.8211\n",
            "Epoch 9/50\n",
            "66/66 [==============================] - ETA: 0s - loss: 0.0117 - accuracy: 0.9971\n",
            "Epoch 00009: val_accuracy improved from 0.82111 to 0.82444, saving model to best_model_efficient_5.h5\n",
            "66/66 [==============================] - 50s 753ms/step - loss: 0.0117 - accuracy: 0.9971 - val_loss: 0.5897 - val_accuracy: 0.8244\n",
            "Epoch 10/50\n",
            "66/66 [==============================] - ETA: 0s - loss: 0.0113 - accuracy: 0.9962\n",
            "Epoch 00010: val_accuracy improved from 0.82444 to 0.84111, saving model to best_model_efficient_5.h5\n",
            "66/66 [==============================] - 51s 762ms/step - loss: 0.0113 - accuracy: 0.9962 - val_loss: 0.4769 - val_accuracy: 0.8411\n",
            "Epoch 11/50\n",
            "66/66 [==============================] - ETA: 0s - loss: 0.0093 - accuracy: 0.9981\n",
            "Epoch 00011: val_accuracy improved from 0.84111 to 0.89778, saving model to best_model_efficient_5.h5\n",
            "66/66 [==============================] - 50s 753ms/step - loss: 0.0093 - accuracy: 0.9981 - val_loss: 0.3195 - val_accuracy: 0.8978\n",
            "Epoch 12/50\n",
            "66/66 [==============================] - ETA: 0s - loss: 0.0084 - accuracy: 0.9986\n",
            "Epoch 00012: val_accuracy improved from 0.89778 to 0.91222, saving model to best_model_efficient_5.h5\n",
            "66/66 [==============================] - 50s 753ms/step - loss: 0.0084 - accuracy: 0.9986 - val_loss: 0.2771 - val_accuracy: 0.9122\n",
            "Epoch 13/50\n",
            "66/66 [==============================] - ETA: 0s - loss: 0.0049 - accuracy: 0.9995\n",
            "Epoch 00013: val_accuracy improved from 0.91222 to 0.91444, saving model to best_model_efficient_5.h5\n",
            "66/66 [==============================] - 51s 759ms/step - loss: 0.0049 - accuracy: 0.9995 - val_loss: 0.3012 - val_accuracy: 0.9144\n",
            "Epoch 14/50\n",
            "66/66 [==============================] - ETA: 0s - loss: 0.0083 - accuracy: 0.9981\n",
            "Epoch 00014: val_accuracy improved from 0.91444 to 0.93000, saving model to best_model_efficient_5.h5\n",
            "66/66 [==============================] - 50s 752ms/step - loss: 0.0083 - accuracy: 0.9981 - val_loss: 0.2992 - val_accuracy: 0.9300\n",
            "Epoch 15/50\n",
            "66/66 [==============================] - ETA: 0s - loss: 0.0044 - accuracy: 0.9990\n",
            "Epoch 00015: val_accuracy improved from 0.93000 to 0.93222, saving model to best_model_efficient_5.h5\n",
            "66/66 [==============================] - 50s 751ms/step - loss: 0.0044 - accuracy: 0.9990 - val_loss: 0.2872 - val_accuracy: 0.9322\n",
            "Epoch 16/50\n",
            "66/66 [==============================] - ETA: 0s - loss: 0.0029 - accuracy: 1.0000\n",
            "Epoch 00016: val_accuracy improved from 0.93222 to 0.93333, saving model to best_model_efficient_5.h5\n",
            "66/66 [==============================] - 50s 749ms/step - loss: 0.0029 - accuracy: 1.0000 - val_loss: 0.2898 - val_accuracy: 0.9333\n",
            "Epoch 17/50\n",
            "66/66 [==============================] - ETA: 0s - loss: 0.0030 - accuracy: 0.9995\n",
            "Epoch 00017: val_accuracy improved from 0.93333 to 0.93889, saving model to best_model_efficient_5.h5\n",
            "66/66 [==============================] - 50s 756ms/step - loss: 0.0030 - accuracy: 0.9995 - val_loss: 0.2594 - val_accuracy: 0.9389\n",
            "Epoch 18/50\n",
            "66/66 [==============================] - ETA: 0s - loss: 0.0023 - accuracy: 1.0000\n",
            "Epoch 00018: val_accuracy improved from 0.93889 to 0.94000, saving model to best_model_efficient_5.h5\n",
            "66/66 [==============================] - 50s 756ms/step - loss: 0.0023 - accuracy: 1.0000 - val_loss: 0.2569 - val_accuracy: 0.9400\n",
            "Epoch 19/50\n",
            "66/66 [==============================] - ETA: 0s - loss: 0.0021 - accuracy: 1.0000\n",
            "Epoch 00019: val_accuracy did not improve from 0.94000\n",
            "66/66 [==============================] - 47s 700ms/step - loss: 0.0021 - accuracy: 1.0000 - val_loss: 0.2587 - val_accuracy: 0.9367\n",
            "Epoch 20/50\n",
            "66/66 [==============================] - ETA: 0s - loss: 0.0022 - accuracy: 0.9995\n",
            "Epoch 00020: val_accuracy did not improve from 0.94000\n",
            "66/66 [==============================] - 47s 700ms/step - loss: 0.0022 - accuracy: 0.9995 - val_loss: 0.2697 - val_accuracy: 0.9333\n",
            "Epoch 21/50\n",
            "66/66 [==============================] - ETA: 0s - loss: 0.0038 - accuracy: 0.9986\n",
            "Epoch 00021: val_accuracy did not improve from 0.94000\n",
            "66/66 [==============================] - 47s 699ms/step - loss: 0.0038 - accuracy: 0.9986 - val_loss: 0.2841 - val_accuracy: 0.9322\n",
            "Epoch 22/50\n",
            "66/66 [==============================] - ETA: 0s - loss: 0.0038 - accuracy: 0.9986\n",
            "Epoch 00022: val_accuracy did not improve from 0.94000\n",
            "66/66 [==============================] - 47s 698ms/step - loss: 0.0038 - accuracy: 0.9986 - val_loss: 0.2710 - val_accuracy: 0.9333\n",
            "Epoch 23/50\n",
            "66/66 [==============================] - ETA: 0s - loss: 0.0036 - accuracy: 0.9990\n",
            "Epoch 00023: val_accuracy did not improve from 0.94000\n",
            "66/66 [==============================] - 47s 701ms/step - loss: 0.0036 - accuracy: 0.9990 - val_loss: 0.2844 - val_accuracy: 0.9311\n",
            "Epoch 24/50\n",
            "66/66 [==============================] - ETA: 0s - loss: 0.0019 - accuracy: 1.0000\n",
            "Epoch 00024: val_accuracy did not improve from 0.94000\n",
            "66/66 [==============================] - 47s 697ms/step - loss: 0.0019 - accuracy: 1.0000 - val_loss: 0.2864 - val_accuracy: 0.9333\n",
            "Epoch 25/50\n",
            "66/66 [==============================] - ETA: 0s - loss: 0.0014 - accuracy: 1.0000\n",
            "Epoch 00025: val_accuracy did not improve from 0.94000\n",
            "66/66 [==============================] - 47s 700ms/step - loss: 0.0014 - accuracy: 1.0000 - val_loss: 0.2827 - val_accuracy: 0.9344\n",
            "Epoch 26/50\n",
            "66/66 [==============================] - ETA: 0s - loss: 0.0012 - accuracy: 1.0000\n",
            "Epoch 00026: val_accuracy did not improve from 0.94000\n",
            "66/66 [==============================] - 47s 699ms/step - loss: 0.0012 - accuracy: 1.0000 - val_loss: 0.2741 - val_accuracy: 0.9389\n",
            "Epoch 27/50\n",
            "66/66 [==============================] - ETA: 0s - loss: 6.2484e-04 - accuracy: 1.0000\n",
            "Epoch 00027: val_accuracy improved from 0.94000 to 0.94111, saving model to best_model_efficient_5.h5\n",
            "66/66 [==============================] - 50s 751ms/step - loss: 6.2484e-04 - accuracy: 1.0000 - val_loss: 0.2763 - val_accuracy: 0.9411\n",
            "Epoch 28/50\n",
            "66/66 [==============================] - ETA: 0s - loss: 0.0018 - accuracy: 0.9990\n",
            "Epoch 00028: val_accuracy did not improve from 0.94111\n",
            "66/66 [==============================] - 47s 698ms/step - loss: 0.0018 - accuracy: 0.9990 - val_loss: 0.2686 - val_accuracy: 0.9389\n",
            "Epoch 29/50\n",
            "66/66 [==============================] - ETA: 0s - loss: 9.3597e-04 - accuracy: 1.0000\n",
            "Epoch 00029: val_accuracy did not improve from 0.94111\n",
            "66/66 [==============================] - 47s 702ms/step - loss: 9.3597e-04 - accuracy: 1.0000 - val_loss: 0.2820 - val_accuracy: 0.9356\n",
            "Epoch 30/50\n",
            "66/66 [==============================] - ETA: 0s - loss: 8.1049e-04 - accuracy: 1.0000\n",
            "Epoch 00030: val_accuracy did not improve from 0.94111\n",
            "66/66 [==============================] - 47s 701ms/step - loss: 8.1049e-04 - accuracy: 1.0000 - val_loss: 0.2787 - val_accuracy: 0.9356\n",
            "Epoch 31/50\n",
            "66/66 [==============================] - ETA: 0s - loss: 8.5216e-04 - accuracy: 0.9995\n",
            "Epoch 00031: val_accuracy did not improve from 0.94111\n",
            "66/66 [==============================] - 47s 700ms/step - loss: 8.5216e-04 - accuracy: 0.9995 - val_loss: 0.2782 - val_accuracy: 0.9378\n",
            "Epoch 32/50\n",
            "66/66 [==============================] - ETA: 0s - loss: 0.0046 - accuracy: 0.9990\n",
            "Epoch 00032: val_accuracy improved from 0.94111 to 0.94444, saving model to best_model_efficient_5.h5\n",
            "66/66 [==============================] - 50s 752ms/step - loss: 0.0046 - accuracy: 0.9990 - val_loss: 0.2531 - val_accuracy: 0.9444\n",
            "Epoch 33/50\n",
            "66/66 [==============================] - ETA: 0s - loss: 0.0011 - accuracy: 1.0000\n",
            "Epoch 00033: val_accuracy did not improve from 0.94444\n",
            "66/66 [==============================] - 47s 701ms/step - loss: 0.0011 - accuracy: 1.0000 - val_loss: 0.2679 - val_accuracy: 0.9378\n",
            "Epoch 34/50\n",
            "66/66 [==============================] - ETA: 0s - loss: 0.0011 - accuracy: 0.9995\n",
            "Epoch 00034: val_accuracy did not improve from 0.94444\n",
            "66/66 [==============================] - 47s 699ms/step - loss: 0.0011 - accuracy: 0.9995 - val_loss: 0.2780 - val_accuracy: 0.9400\n",
            "Epoch 35/50\n",
            "66/66 [==============================] - ETA: 0s - loss: 0.0017 - accuracy: 0.9995\n",
            "Epoch 00035: val_accuracy did not improve from 0.94444\n",
            "66/66 [==============================] - 47s 701ms/step - loss: 0.0017 - accuracy: 0.9995 - val_loss: 0.2890 - val_accuracy: 0.9422\n",
            "Epoch 36/50\n",
            "66/66 [==============================] - ETA: 0s - loss: 0.0032 - accuracy: 0.9990\n",
            "Epoch 00036: val_accuracy did not improve from 0.94444\n",
            "66/66 [==============================] - 47s 703ms/step - loss: 0.0032 - accuracy: 0.9990 - val_loss: 0.3141 - val_accuracy: 0.9356\n",
            "Epoch 37/50\n",
            "66/66 [==============================] - ETA: 0s - loss: 0.0017 - accuracy: 0.9995\n",
            "Epoch 00037: val_accuracy did not improve from 0.94444\n",
            "66/66 [==============================] - 47s 698ms/step - loss: 0.0017 - accuracy: 0.9995 - val_loss: 0.3425 - val_accuracy: 0.9278\n",
            "Epoch 38/50\n",
            "66/66 [==============================] - ETA: 0s - loss: 0.0021 - accuracy: 0.9995\n",
            "Epoch 00038: val_accuracy did not improve from 0.94444\n",
            "66/66 [==============================] - 47s 699ms/step - loss: 0.0021 - accuracy: 0.9995 - val_loss: 0.3022 - val_accuracy: 0.9378\n",
            "Epoch 39/50\n",
            "66/66 [==============================] - ETA: 0s - loss: 0.0020 - accuracy: 0.9995\n",
            "Epoch 00039: val_accuracy did not improve from 0.94444\n",
            "66/66 [==============================] - 47s 698ms/step - loss: 0.0020 - accuracy: 0.9995 - val_loss: 0.2950 - val_accuracy: 0.9344\n",
            "Epoch 40/50\n",
            "66/66 [==============================] - ETA: 0s - loss: 0.0020 - accuracy: 0.9995\n",
            "Epoch 00040: val_accuracy did not improve from 0.94444\n",
            "66/66 [==============================] - 47s 699ms/step - loss: 0.0020 - accuracy: 0.9995 - val_loss: 0.3124 - val_accuracy: 0.9322\n",
            "Epoch 41/50\n",
            "66/66 [==============================] - ETA: 0s - loss: 0.0028 - accuracy: 0.9986\n",
            "Epoch 00041: val_accuracy did not improve from 0.94444\n",
            "66/66 [==============================] - 47s 700ms/step - loss: 0.0028 - accuracy: 0.9986 - val_loss: 0.3395 - val_accuracy: 0.9389\n",
            "Epoch 42/50\n",
            "66/66 [==============================] - ETA: 0s - loss: 0.0044 - accuracy: 0.9986\n",
            "Epoch 00042: val_accuracy did not improve from 0.94444\n",
            "66/66 [==============================] - 47s 699ms/step - loss: 0.0044 - accuracy: 0.9986 - val_loss: 0.3519 - val_accuracy: 0.9289\n",
            "Epoch 43/50\n",
            "66/66 [==============================] - ETA: 0s - loss: 0.0028 - accuracy: 0.9990\n",
            "Epoch 00043: val_accuracy did not improve from 0.94444\n",
            "66/66 [==============================] - 47s 700ms/step - loss: 0.0028 - accuracy: 0.9990 - val_loss: 0.3253 - val_accuracy: 0.9322\n",
            "Epoch 44/50\n",
            "66/66 [==============================] - ETA: 0s - loss: 0.0035 - accuracy: 0.9986\n",
            "Epoch 00044: val_accuracy did not improve from 0.94444\n",
            "66/66 [==============================] - 47s 697ms/step - loss: 0.0035 - accuracy: 0.9986 - val_loss: 0.3118 - val_accuracy: 0.9311\n",
            "Epoch 45/50\n",
            "66/66 [==============================] - ETA: 0s - loss: 0.0011 - accuracy: 1.0000\n",
            "Epoch 00045: val_accuracy did not improve from 0.94444\n",
            "66/66 [==============================] - 47s 700ms/step - loss: 0.0011 - accuracy: 1.0000 - val_loss: 0.3062 - val_accuracy: 0.9267\n",
            "Epoch 46/50\n",
            "66/66 [==============================] - ETA: 0s - loss: 0.0061 - accuracy: 0.9981\n",
            "Epoch 00046: val_accuracy did not improve from 0.94444\n",
            "66/66 [==============================] - 47s 700ms/step - loss: 0.0061 - accuracy: 0.9981 - val_loss: 0.3377 - val_accuracy: 0.9178\n",
            "Epoch 47/50\n",
            "66/66 [==============================] - ETA: 0s - loss: 0.0114 - accuracy: 0.9976\n",
            "Epoch 00047: val_accuracy did not improve from 0.94444\n",
            "66/66 [==============================] - 47s 700ms/step - loss: 0.0114 - accuracy: 0.9976 - val_loss: 0.3912 - val_accuracy: 0.9267\n",
            "Epoch 48/50\n",
            "66/66 [==============================] - ETA: 0s - loss: 0.0032 - accuracy: 0.9995\n",
            "Epoch 00048: val_accuracy did not improve from 0.94444\n",
            "66/66 [==============================] - 47s 699ms/step - loss: 0.0032 - accuracy: 0.9995 - val_loss: 0.4415 - val_accuracy: 0.9211\n",
            "Epoch 49/50\n",
            "66/66 [==============================] - ETA: 0s - loss: 0.0035 - accuracy: 0.9986\n",
            "Epoch 00049: val_accuracy did not improve from 0.94444\n",
            "66/66 [==============================] - 47s 703ms/step - loss: 0.0035 - accuracy: 0.9986 - val_loss: 0.3129 - val_accuracy: 0.9300\n",
            "Epoch 50/50\n",
            "66/66 [==============================] - ETA: 0s - loss: 0.0119 - accuracy: 0.9986\n",
            "Epoch 00050: val_accuracy did not improve from 0.94444\n",
            "66/66 [==============================] - 47s 702ms/step - loss: 0.0119 - accuracy: 0.9986 - val_loss: 0.3352 - val_accuracy: 0.9311\n"
          ]
        }
      ],
      "source": [
        "# training model\n",
        "history = model.fit(train_dataset, validation_data=validate_dataset, epochs = 50, callbacks=[es, mc])"
      ]
    },
    {
      "cell_type": "code",
      "source": [
        "# loading best model weights\n",
        "model.load_weights('best_model_efficient_4.h5')"
      ],
      "metadata": {
        "id": "CB74k26KV64j"
      },
      "execution_count": null,
      "outputs": []
    },
    {
      "cell_type": "code",
      "execution_count": null,
      "metadata": {
        "id": "LVFelSCAXcXV"
      },
      "outputs": [],
      "source": [
        "# getting all predictions\n",
        "import numpy as np\n",
        "predictions = np.array([])\n",
        "labels =  np.array([])\n",
        "for x, y in test_dataset:\n",
        "  predictions = np.concatenate([predictions, np.argmax(model.predict(x), axis = -1)])\n",
        "\n",
        "  labels = np.concatenate([labels, y])"
      ]
    },
    {
      "cell_type": "code",
      "execution_count": null,
      "metadata": {
        "id": "555Yh_yhXcw9",
        "colab": {
          "base_uri": "https://localhost:8080/",
          "height": 283
        },
        "outputId": "86f7d186-c855-4100-9afc-7e6e8732df39"
      },
      "outputs": [
        {
          "output_type": "display_data",
          "data": {
            "image/png": "[encoded data removed]",
            "text/plain": [
              "<Figure size 432x288 with 2 Axes>"
            ]
          },
          "metadata": {
            "needs_background": "light"
          }
        }
      ],
      "source": [
        "# plotting confusion matrix\n",
        "from sklearn.metrics import ConfusionMatrixDisplay\n",
        "confusion_matrix = ConfusionMatrixDisplay.from_predictions(labels, predictions, normalize='true')\n",
        "\n",
        "confusion_matrix.figure_.savefig(os.getcwd() + '/figures/confusion_matrix_efficientNetB45.png')"
      ]
    },
    {
      "cell_type": "code",
      "execution_count": null,
      "metadata": {
        "id": "TJ5Iu5G5XhFB"
      },
      "outputs": [],
      "source": [
        "# plotting loss graph\n",
        "import matplotlib.pyplot as plt\n",
        "\n",
        "plt.style.use('ggplot')\n",
        "\n",
        "plt.figure(figsize=(16, 8))\n",
        "plt.plot(history.history['loss'])\n",
        "plt.plot(history.history['val_loss'])\n",
        "plt.title('Model loss no augmentation')\n",
        "plt.ylabel('loss')\n",
        "plt.xlabel('epoch')\n",
        "plt.legend(['train', 'val'], loc='upper left')\n",
        "plt.savefig( os.getcwd() + '/figures/loss_efficientNetB44.png')\n",
        "plt.show()"
      ]
    },
    {
      "cell_type": "code",
      "execution_count": null,
      "metadata": {
        "id": "UB1wxMjbXp3y"
      },
      "outputs": [],
      "source": [
        "# plotting accuracy graph\n",
        "import matplotlib.pyplot as plt\n",
        "\n",
        "plt.figure(figsize=(16, 8))\n",
        "plt.plot(history.history['accuracy'])\n",
        "plt.plot(history.history['val_accuracy'])\n",
        "plt.title('Model accuracy no augmentation')\n",
        "plt.ylabel('accuracy')\n",
        "plt.xlabel('epoch')\n",
        "plt.legend(['train', 'val'], loc='upper left')\n",
        "plt.savefig( './figures/accuracy_efficientNetB44.png')\n",
        "plt.show()"
      ]
    },
    {
      "cell_type": "code",
      "execution_count": null,
      "metadata": {
        "id": "3nnRbYJ5fuqz",
        "colab": {
          "base_uri": "https://localhost:8080/"
        },
        "outputId": "9038c8aa-773f-4c70-eee4-72bb39fa1562"
      },
      "outputs": [
        {
          "output_type": "execute_result",
          "data": {
            "text/plain": [
              "0.935"
            ]
          },
          "metadata": {},
          "execution_count": 28
        }
      ],
      "source": [
        "# showing accuracy\n",
        "from sklearn.metrics import accuracy_score\n",
        "\n",
        "accuracy_score(labels, predictions)"
      ]
    }
  ],
  "metadata": {
    "accelerator": "GPU",
    "colab": {
      "collapsed_sections": [],
      "name": "transfer_learning_Task B.ipynb",
      "provenance": [],
      "authorship_tag": "ABX9TyPUl8yfQ0z0dGEkfxbNAK3C",
      "include_colab_link": true
    },
    "kernelspec": {
      "display_name": "Python 3",
      "name": "python3"
    },
    "language_info": {
      "name": "python"
    },
    "widgets": {
      "application/vnd.jupyter.widget-state+json": {
        "674c6e4ffa8b4ababbf9834bf7f766a5": {
          "model_module": "@jupyter-widgets/controls",
          "model_name": "HBoxModel",
          "model_module_version": "1.5.0",
          "state": {
            "_view_name": "HBoxView",
            "_dom_classes": [],
            "_model_name": "HBoxModel",
            "_view_module": "@jupyter-widgets/controls",
            "_model_module_version": "1.5.0",
            "_view_count": null,
            "_view_module_version": "1.5.0",
            "box_style": "",
            "layout": "IPY_MODEL_706d7cf5d7734985820a5bde9680435d",
            "_model_module": "@jupyter-widgets/controls",
            "children": [
              "IPY_MODEL_14c1586f36824e189b9934f1afea6443",
              "IPY_MODEL_6f3e31fda6244f8193435fcc45e7a19b",
              "IPY_MODEL_55c38105cede4f78bb745adfc01b35a2"
            ]
          }
        },
        "706d7cf5d7734985820a5bde9680435d": {
          "model_module": "@jupyter-widgets/base",
          "model_name": "LayoutModel",
          "model_module_version": "1.2.0",
          "state": {
            "_view_name": "LayoutView",
            "grid_template_rows": null,
            "right": null,
            "justify_content": null,
            "_view_module": "@jupyter-widgets/base",
            "overflow": null,
            "_model_module_version": "1.2.0",
            "_view_count": null,
            "flex_flow": null,
            "width": null,
            "min_width": null,
            "border": null,
            "align_items": null,
            "bottom": null,
            "_model_module": "@jupyter-widgets/base",
            "top": null,
            "grid_column": null,
            "overflow_y": null,
            "overflow_x": null,
            "grid_auto_flow": null,
            "grid_area": null,
            "grid_template_columns": null,
            "flex": null,
            "_model_name": "LayoutModel",
            "justify_items": null,
            "grid_row": null,
            "max_height": null,
            "align_content": null,
            "visibility": null,
            "align_self": null,
            "height": null,
            "min_height": null,
            "padding": null,
            "grid_auto_rows": null,
            "grid_gap": null,
            "max_width": null,
            "order": null,
            "_view_module_version": "1.2.0",
            "grid_template_areas": null,
            "object_position": null,
            "object_fit": null,
            "grid_auto_columns": null,
            "margin": null,
            "display": null,
            "left": null
          }
        },
        "14c1586f36824e189b9934f1afea6443": {
          "model_module": "@jupyter-widgets/controls",
          "model_name": "HTMLModel",
          "model_module_version": "1.5.0",
          "state": {
            "_view_name": "HTMLView",
            "style": "IPY_MODEL_650205979f5d41e6b76d7e0d483fef63",
            "_dom_classes": [],
            "description": "",
            "_model_name": "HTMLModel",
            "placeholder": "​",
            "_view_module": "@jupyter-widgets/controls",
            "_model_module_version": "1.5.0",
            "value": "",
            "_view_count": null,
            "_view_module_version": "1.5.0",
            "description_tooltip": null,
            "_model_module": "@jupyter-widgets/controls",
            "layout": "IPY_MODEL_eeb92d92f08641fd8e8323f72401af37"
          }
        },
        "6f3e31fda6244f8193435fcc45e7a19b": {
          "model_module": "@jupyter-widgets/controls",
          "model_name": "FloatProgressModel",
          "model_module_version": "1.5.0",
          "state": {
            "_view_name": "ProgressView",
            "style": "IPY_MODEL_fdad42e4a9fc4071a76a7aef13df3865",
            "_dom_classes": [],
            "description": "",
            "_model_name": "FloatProgressModel",
            "bar_style": "success",
            "max": 1,
            "_view_module": "@jupyter-widgets/controls",
            "_model_module_version": "1.5.0",
            "value": 1,
            "_view_count": null,
            "_view_module_version": "1.5.0",
            "orientation": "horizontal",
            "min": 0,
            "description_tooltip": null,
            "_model_module": "@jupyter-widgets/controls",
            "layout": "IPY_MODEL_9139ced32f0a4181a4e3904a74a1bb2b"
          }
        },
        "55c38105cede4f78bb745adfc01b35a2": {
          "model_module": "@jupyter-widgets/controls",
          "model_name": "HTMLModel",
          "model_module_version": "1.5.0",
          "state": {
            "_view_name": "HTMLView",
            "style": "IPY_MODEL_9e5482f26f314307b3037bb22d9f89d1",
            "_dom_classes": [],
            "description": "",
            "_model_name": "HTMLModel",
            "placeholder": "​",
            "_view_module": "@jupyter-widgets/controls",
            "_model_module_version": "1.5.0",
            "value": " 200/? [02:22&lt;00:00,  1.31it/s]",
            "_view_count": null,
            "_view_module_version": "1.5.0",
            "description_tooltip": null,
            "_model_module": "@jupyter-widgets/controls",
            "layout": "IPY_MODEL_cb62a7e84a8d494fb0851f94b3c5a02d"
          }
        },
        "650205979f5d41e6b76d7e0d483fef63": {
          "model_module": "@jupyter-widgets/controls",
          "model_name": "DescriptionStyleModel",
          "model_module_version": "1.5.0",
          "state": {
            "_view_name": "StyleView",
            "_model_name": "DescriptionStyleModel",
            "description_width": "",
            "_view_module": "@jupyter-widgets/base",
            "_model_module_version": "1.5.0",
            "_view_count": null,
            "_view_module_version": "1.2.0",
            "_model_module": "@jupyter-widgets/controls"
          }
        },
        "eeb92d92f08641fd8e8323f72401af37": {
          "model_module": "@jupyter-widgets/base",
          "model_name": "LayoutModel",
          "model_module_version": "1.2.0",
          "state": {
            "_view_name": "LayoutView",
            "grid_template_rows": null,
            "right": null,
            "justify_content": null,
            "_view_module": "@jupyter-widgets/base",
            "overflow": null,
            "_model_module_version": "1.2.0",
            "_view_count": null,
            "flex_flow": null,
            "width": null,
            "min_width": null,
            "border": null,
            "align_items": null,
            "bottom": null,
            "_model_module": "@jupyter-widgets/base",
            "top": null,
            "grid_column": null,
            "overflow_y": null,
            "overflow_x": null,
            "grid_auto_flow": null,
            "grid_area": null,
            "grid_template_columns": null,
            "flex": null,
            "_model_name": "LayoutModel",
            "justify_items": null,
            "grid_row": null,
            "max_height": null,
            "align_content": null,
            "visibility": null,
            "align_self": null,
            "height": null,
            "min_height": null,
            "padding": null,
            "grid_auto_rows": null,
            "grid_gap": null,
            "max_width": null,
            "order": null,
            "_view_module_version": "1.2.0",
            "grid_template_areas": null,
            "object_position": null,
            "object_fit": null,
            "grid_auto_columns": null,
            "margin": null,
            "display": null,
            "left": null
          }
        },
        "fdad42e4a9fc4071a76a7aef13df3865": {
          "model_module": "@jupyter-widgets/controls",
          "model_name": "ProgressStyleModel",
          "model_module_version": "1.5.0",
          "state": {
            "_view_name": "StyleView",
            "_model_name": "ProgressStyleModel",
            "description_width": "",
            "_view_module": "@jupyter-widgets/base",
            "_model_module_version": "1.5.0",
            "_view_count": null,
            "_view_module_version": "1.2.0",
            "bar_color": null,
            "_model_module": "@jupyter-widgets/controls"
          }
        },
        "9139ced32f0a4181a4e3904a74a1bb2b": {
          "model_module": "@jupyter-widgets/base",
          "model_name": "LayoutModel",
          "model_module_version": "1.2.0",
          "state": {
            "_view_name": "LayoutView",
            "grid_template_rows": null,
            "right": null,
            "justify_content": null,
            "_view_module": "@jupyter-widgets/base",
            "overflow": null,
            "_model_module_version": "1.2.0",
            "_view_count": null,
            "flex_flow": null,
            "width": "20px",
            "min_width": null,
            "border": null,
            "align_items": null,
            "bottom": null,
            "_model_module": "@jupyter-widgets/base",
            "top": null,
            "grid_column": null,
            "overflow_y": null,
            "overflow_x": null,
            "grid_auto_flow": null,
            "grid_area": null,
            "grid_template_columns": null,
            "flex": null,
            "_model_name": "LayoutModel",
            "justify_items": null,
            "grid_row": null,
            "max_height": null,
            "align_content": null,
            "visibility": null,
            "align_self": null,
            "height": null,
            "min_height": null,
            "padding": null,
            "grid_auto_rows": null,
            "grid_gap": null,
            "max_width": null,
            "order": null,
            "_view_module_version": "1.2.0",
            "grid_template_areas": null,
            "object_position": null,
            "object_fit": null,
            "grid_auto_columns": null,
            "margin": null,
            "display": null,
            "left": null
          }
        },
        "9e5482f26f314307b3037bb22d9f89d1": {
          "model_module": "@jupyter-widgets/controls",
          "model_name": "DescriptionStyleModel",
          "model_module_version": "1.5.0",
          "state": {
            "_view_name": "StyleView",
            "_model_name": "DescriptionStyleModel",
            "description_width": "",
            "_view_module": "@jupyter-widgets/base",
            "_model_module_version": "1.5.0",
            "_view_count": null,
            "_view_module_version": "1.2.0",
            "_model_module": "@jupyter-widgets/controls"
          }
        },
        "cb62a7e84a8d494fb0851f94b3c5a02d": {
          "model_module": "@jupyter-widgets/base",
          "model_name": "LayoutModel",
          "model_module_version": "1.2.0",
          "state": {
            "_view_name": "LayoutView",
            "grid_template_rows": null,
            "right": null,
            "justify_content": null,
            "_view_module": "@jupyter-widgets/base",
            "overflow": null,
            "_model_module_version": "1.2.0",
            "_view_count": null,
            "flex_flow": null,
            "width": null,
            "min_width": null,
            "border": null,
            "align_items": null,
            "bottom": null,
            "_model_module": "@jupyter-widgets/base",
            "top": null,
            "grid_column": null,
            "overflow_y": null,
            "overflow_x": null,
            "grid_auto_flow": null,
            "grid_area": null,
            "grid_template_columns": null,
            "flex": null,
            "_model_name": "LayoutModel",
            "justify_items": null,
            "grid_row": null,
            "max_height": null,
            "align_content": null,
            "visibility": null,
            "align_self": null,
            "height": null,
            "min_height": null,
            "padding": null,
            "grid_auto_rows": null,
            "grid_gap": null,
            "max_width": null,
            "order": null,
            "_view_module_version": "1.2.0",
            "grid_template_areas": null,
            "object_position": null,
            "object_fit": null,
            "grid_auto_columns": null,
            "margin": null,
            "display": null,
            "left": null
          }
        }
      }
    }
  },
  "nbformat": 4,
  "nbformat_minor": 0
}