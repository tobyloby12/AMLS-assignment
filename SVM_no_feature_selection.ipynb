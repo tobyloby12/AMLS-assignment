{
 "cells": [
  {
   "cell_type": "code",
   "execution_count": 56,
   "metadata": {},
   "outputs": [],
   "source": [
    "# importing libraries\n",
    "import numpy as np\n",
    "import cv2\n",
    "import pandas as pd\n",
    "import os\n",
    "from sklearn.svm import SVC\n",
    "from sklearn.model_selection import train_test_split\n",
    "from sklearn.metrics import accuracy_score"
   ]
  },
  {
   "cell_type": "code",
   "execution_count": 44,
   "metadata": {},
   "outputs": [],
   "source": [
    "# loading in images and turing it into an array to use as features, collecting labels\n",
    "path = os.getcwd()\n",
    "\n",
    "path = os.path.join(path, 'dataset')\n",
    "df_labels = pd.read_csv(os.path.join(path, 'label.csv'))\n",
    "features = []\n",
    "labels = []\n",
    "\n",
    "classes = {'meningioma_tumor': 0, 'no_tumor': 1, 'glioma_tumor': 1, 'pituitary_tumor': 1}\n",
    "\n",
    "for row in df_labels.iterrows():\n",
    "    image_name = row[1][0]\n",
    "    label = row[1][1]\n",
    "    # opening and flattening image\n",
    "    img = cv2.imread(os.path.join(path, 'image/' + image_name))\n",
    "    # images are gray scale so there is useless data using RGB\n",
    "    grayscale = cv2.cvtColor(img, cv2.COLOR_BGR2GRAY)\n",
    "    img_flat = grayscale.flatten()\n",
    "    # appending to lists for use\n",
    "    features.append(img_flat)\n",
    "    labels.append(classes.get(label))"
   ]
  },
  {
   "cell_type": "code",
   "execution_count": 52,
   "metadata": {},
   "outputs": [
    {
     "name": "stdout",
     "output_type": "stream",
     "text": [
      "Train size:  2700\n",
      "Test size:  300\n"
     ]
    }
   ],
   "source": [
    "# splitting into train and test sets\n",
    "x_train, x_test, y_train, y_test = train_test_split(features, labels, test_size=0.1)\n",
    "\n",
    "print('Train size: ', len(x_train))\n",
    "print('Test size: ', len(x_test))"
   ]
  },
  {
   "cell_type": "code",
   "execution_count": 55,
   "metadata": {},
   "outputs": [
    {
     "data": {
      "text/plain": [
       "SVC(C=1, gamma='auto', kernel='linear')"
      ]
     },
     "execution_count": 55,
     "metadata": {},
     "output_type": "execute_result"
    }
   ],
   "source": [
    "# creating and training SVM on training data\n",
    "model = SVC(C=1, kernel='linear', gamma='auto')\n",
    "\n",
    "model.fit(x_train, y_train)"
   ]
  },
  {
   "cell_type": "code",
   "execution_count": 58,
   "metadata": {},
   "outputs": [
    {
     "name": "stdout",
     "output_type": "stream",
     "text": [
      "0.8666666666666667\n"
     ]
    }
   ],
   "source": [
    "# getting accuracy metrics and printing\n",
    "pred = model.predict(x_test)\n",
    "score = accuracy_score(y_test, pred)\n",
    "print('accuracy: ', score)"
   ]
  },
  {
   "cell_type": "code",
   "execution_count": null,
   "metadata": {},
   "outputs": [],
   "source": []
  }
 ],
 "metadata": {
  "interpreter": {
   "hash": "d439f4427515567c5c2068b61bdb7744f6890e76086de048aa6f364682cae429"
  },
  "kernelspec": {
   "display_name": "Python 3.9.7 64-bit ('AMLS-assigment': conda)",
   "language": "python",
   "name": "python3"
  },
  "language_info": {
   "codemirror_mode": {
    "name": "ipython",
    "version": 3
   },
   "file_extension": ".py",
   "mimetype": "text/x-python",
   "name": "python",
   "nbconvert_exporter": "python",
   "pygments_lexer": "ipython3",
   "version": "3.9.7"
  },
  "orig_nbformat": 4
 },
 "nbformat": 4,
 "nbformat_minor": 2
}
